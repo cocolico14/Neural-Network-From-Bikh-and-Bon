{
  "nbformat": 4,
  "nbformat_minor": 0,
  "metadata": {
    "colab": {
      "name": "NN_Episode11.ipynb",
      "provenance": [],
      "collapsed_sections": []
    },
    "kernelspec": {
      "name": "python3",
      "display_name": "Python 3"
    },
    "accelerator": "GPU"
  },
  "cells": [
    {
      "cell_type": "code",
      "metadata": {
        "id": "QfRzyjrJSMdM",
        "colab_type": "code",
        "colab": {
          "base_uri": "https://localhost:8080/",
          "height": 34
        },
        "outputId": "43fd4510-821a-4f90-dd76-d35bda056036"
      },
      "source": [
        "import torch \n",
        "import torch.nn as nn\n",
        "import numpy as np\n",
        "import pandas as pd\n",
        "from tqdm import tqdm\n",
        "import matplotlib.pyplot as plt\n",
        "from keras.datasets import mnist\n",
        "from google.colab import output"
      ],
      "execution_count": null,
      "outputs": [
        {
          "output_type": "stream",
          "text": [
            "Using TensorFlow backend.\n"
          ],
          "name": "stderr"
        }
      ]
    },
    {
      "cell_type": "code",
      "metadata": {
        "id": "W7_CZ27llagu",
        "colab_type": "code",
        "colab": {}
      },
      "source": [
        "# device = torch.device('cpu')\n",
        "device = torch.device('cuda' if torch.cuda.is_available() else 'cpu')"
      ],
      "execution_count": null,
      "outputs": []
    },
    {
      "cell_type": "code",
      "metadata": {
        "id": "RYe3Jor9tWo8",
        "colab_type": "code",
        "colab": {}
      },
      "source": [
        "class NeuralNet(nn.Module):\n",
        "    def __init__(self, input_shape, output_shape, output_act, seed=43):\n",
        "        super(NeuralNet, self).__init__()\n",
        "        torch.manual_seed(seed)\n",
        "        torch.cuda.manual_seed(seed)\n",
        "\n",
        "        self.fc1 = nn.Linear(input_shape, 500)\n",
        "        self.fc2 = nn.Linear(500, 50)\n",
        "        self.fc3 = nn.Linear(50, output_shape)\n",
        "\n",
        "        self.relu = nn.ReLU()\n",
        "        self.output_act = output_act\n",
        "\n",
        "        self.do1 = nn.Dropout(p=0.2)\n",
        "        self.do2 = nn.Dropout(p=0.4)\n",
        "\n",
        "        self.report = dict()\n",
        "        self.report['train_loss'] = []\n",
        "        self.report['train_acc'] = []\n",
        "        self.report['test_loss'] = []\n",
        "        self.report['test_acc'] = [] \n",
        "    \n",
        "    def forward(self, x):\n",
        "        out = self.fc1(x)\n",
        "        out = self.relu(out)\n",
        "        out = self.do2(out)\n",
        "\n",
        "        out = self.fc2(out)\n",
        "        out = self.relu(out)\n",
        "        out = self.do1(out)\n",
        "\n",
        "        out = self.fc3(out)\n",
        "        if self.output_act:\n",
        "            out = self.output_act(out)\n",
        "        return out\n",
        "\n",
        "    def test(self, criterion, testdata):\n",
        "        mean_loss = 0.0\n",
        "        accuracy = 0.0\n",
        "        total = 0.0\n",
        "\n",
        "        with torch.no_grad():\n",
        "            for x, y in testdata:\n",
        "                x, y = x.to(device), y.to(device)\n",
        "                out = self(x)\n",
        "                loss = criterion(out, y)\n",
        "                total += y.size(0)\n",
        "                mean_loss += loss.item() * y.size(0)\n",
        "                if len(y.size())==2:\n",
        "                    if out.size(1) == 1:\n",
        "                        accuracy += (torch.round(out) == y).sum()\n",
        "                    else:\n",
        "                        accuracy += (torch.argmax(out, dim=1) == torch.argmax(y, dim=1)).sum()\n",
        "                else:\n",
        "                    accuracy += (torch.argmax(out, dim=1) == y).sum()\n",
        "\n",
        "        self.report['test_loss'].append(mean_loss/total)\n",
        "        self.report['test_acc'].append(accuracy/total)\n",
        "\n",
        "    def learn(self, criterion, epochs, traindata, testdata, \n",
        "            r_lambda=0, optimizer=None, lr_schedulers=None, \n",
        "            nesterov=False, eta=0.001, verbos=1):\n",
        "\n",
        "        if optimizer:\n",
        "            optimizer = optimizer[0](self.parameters(), lr=eta,\n",
        "                                     weight_decay=r_lambda, **optimizer[1])\n",
        "        else:\n",
        "            optimizer = torch.optim.SGD(self.parameters(), lr=eta,\n",
        "                                        momentum=0.9, weight_decay=r_lambda,\n",
        "                                        nesterov=nesterov)\n",
        "\n",
        "        l_bar = '{percentage:3.0f}%|'\n",
        "        r_bar = '|{n_fmt}/{total_fmt}[{elapsed}<{remaining},{rate_fmt}{postfix}]'\n",
        "        t = tqdm(range(epochs), disable=(not verbos), position=0, leave=True,\n",
        "                 bar_format= l_bar+ '{bar}' + r_bar +' {desc}')\n",
        "        for i in t:\n",
        "            mean_loss = 0.0\n",
        "            mean_accuracy = 0.0\n",
        "            total = 0.0\n",
        "\n",
        "            for step, (x, y) in enumerate(traindata):\n",
        "                x, y = x.to(device), y.to(device)\n",
        "                out = self(x)\n",
        "                loss = criterion(out, y)\n",
        "                \n",
        "                optimizer.zero_grad()\n",
        "                loss.backward()\n",
        "                optimizer.step()\n",
        "                \n",
        "                if len(y.size())==2:\n",
        "                    if out.size(1) == 1:\n",
        "                        accuracy = (torch.round(out) == y).sum()\n",
        "                    else:\n",
        "                        accuracy = (torch.argmax(out, dim=1) == torch.argmax(y, dim=1)).sum()\n",
        "                else:\n",
        "                    accuracy = (torch.argmax(out, dim=1) == y).sum()\n",
        "\n",
        "                if verbos == 1:\n",
        "                    if i>0:\n",
        "                        t.set_description(\"train loss:{:.8f} train acc:{:.2f} test loss:{:.8f} test acc:{:.2f}\" \n",
        "                                    .format(loss.item(), \n",
        "                                            accuracy/(y.size(0)*1.),\n",
        "                                            self.report['test_loss'][-1],\n",
        "                                            self.report['test_acc'][-1]))\n",
        "                    else:\n",
        "                        t.set_description(\"train loss:{}\".format(loss.item()))\n",
        "                    t.refresh()\n",
        "\n",
        "                total += y.size(0)\n",
        "                mean_loss += loss.item() * y.size(0)\n",
        "                mean_accuracy += accuracy\n",
        "\n",
        "            self.report['train_loss'].append(mean_loss/total)\n",
        "            self.report['train_acc'].append(mean_accuracy/total)\n",
        "\n",
        "            self.test(criterion, testdata)\n",
        "\n",
        "            if verbos == 1:\n",
        "                t.set_description(\"train loss:{:.8f} train acc:{:.2f} test loss:{:.8f} test acc:{:.2f}\" \n",
        "                            .format(self.report['train_loss'][-1], \n",
        "                                    self.report['train_acc'][-1],\n",
        "                                    self.report['test_loss'][-1],\n",
        "                                    self.report['test_acc'][-1]))\n",
        "                t.refresh()\n",
        "\n",
        "    def weight_init(self, m):\n",
        "        if isinstance(m, nn.Linear):\n",
        "            nn.init.xavier_uniform_(m.weight, gain=nn.init.calculate_gain('relu'))\n",
        "            nn.init.zeros_(m.bias)\n",
        "\n",
        "    def reset(self):\n",
        "        self.apply(self.weight_init)\n",
        "        self.report['train_loss'] = []\n",
        "        self.report['train_acc'] = []\n",
        "        self.report['test_loss'] = []\n",
        "        self.report['test_acc'] = [] "
      ],
      "execution_count": null,
      "outputs": []
    },
    {
      "cell_type": "code",
      "metadata": {
        "id": "zqw4iQi7en0s",
        "colab_type": "code",
        "colab": {}
      },
      "source": [
        "def to_binary(x):\n",
        "    return x%2==0\n",
        "\n",
        "def to_one_hot(x):\n",
        "    one_hot = np.zeros((x.size, x.max()+1))\n",
        "    one_hot[np.arange(x.size), x] = 1\n",
        "    return one_hot\n",
        "\n",
        "class MNISTDataset(torch.utils.data.Dataset):\n",
        "    def __init__(self, train=True):\n",
        "        if train:\n",
        "            (x_train, y_train), _ = mnist.load_data()\n",
        "            self.X = torch.from_numpy((x_train/255).reshape(-1, 784).astype('float32'))\n",
        "            self.y = torch.from_numpy((y_train/9).reshape(-1, 1).astype('float32'))\n",
        "        else:\n",
        "            _, (x_test, y_test) = mnist.load_data()\n",
        "            self.X = torch.from_numpy((x_test/255).reshape(-1, 784).astype('float32'))\n",
        "            self.y = torch.from_numpy((y_test/9).reshape(-1, 1).astype('float32'))\n",
        "            \n",
        "    def __getitem__(self, index):\n",
        "        return self.X[index], self.y[index]\n",
        "\n",
        "    def __len__(self):\n",
        "        return self.X.shape[0]\n",
        "\n",
        "class MNISTDatasetB(torch.utils.data.Dataset):\n",
        "    def __init__(self, train=True):\n",
        "        if train:\n",
        "            (x_train, y_train), _ = mnist.load_data()\n",
        "            y_train = to_binary(y_train)\n",
        "            self.X = torch.from_numpy((x_train/255).reshape(-1, 784).astype('float32'))\n",
        "            self.y = torch.from_numpy((y_train).reshape(-1, 1).astype('float32'))\n",
        "        else:\n",
        "            _, (x_test, y_test) = mnist.load_data()\n",
        "            y_test = to_binary(y_test)\n",
        "            self.X = torch.from_numpy((x_test/255).reshape(-1, 784).astype('float32'))\n",
        "            self.y = torch.from_numpy((y_test).reshape(-1, 1).astype('float32'))\n",
        "            \n",
        "    def __getitem__(self, index):\n",
        "        return self.X[index], self.y[index]\n",
        "\n",
        "    def __len__(self):\n",
        "        return self.X.shape[0]\n",
        "\n",
        "class MNISTDatasetC(torch.utils.data.Dataset):\n",
        "    def __init__(self, one_hot=False, train=True):\n",
        "        if train:\n",
        "            (x_train, y_train), _ = mnist.load_data()\n",
        "            if one_hot:\n",
        "                y_train = to_one_hot(y_train)\n",
        "                self.y = torch.from_numpy((y_train).reshape(-1, 10).astype('float32'))\n",
        "            else:\n",
        "                self.y = torch.from_numpy((y_train)).long()\n",
        "            self.X = torch.from_numpy((x_train/255).reshape(-1, 784).astype('float32'))\n",
        "        else:\n",
        "            _, (x_test, y_test) = mnist.load_data()\n",
        "            if one_hot:\n",
        "                y_test = to_one_hot(y_test)\n",
        "                self.y = torch.from_numpy((y_test).reshape(-1, 10).astype('float32'))\n",
        "            else:\n",
        "                self.y = torch.from_numpy((y_test)).long()\n",
        "            self.X = torch.from_numpy((x_test/255).reshape(-1, 784).astype('float32'))\n",
        "\n",
        "    def __getitem__(self, index):\n",
        "        return self.X[index], self.y[index]\n",
        "\n",
        "    def __len__(self):\n",
        "        return self.X.shape[0]"
      ],
      "execution_count": null,
      "outputs": []
    },
    {
      "cell_type": "code",
      "metadata": {
        "id": "ewcRulUJo-34",
        "colab_type": "code",
        "colab": {}
      },
      "source": [
        "RMSprop = (torch.optim.RMSprop, {'alpha':0.99, 'eps':1e-08,\n",
        "                                 'momentum':0, 'centered':False})\n",
        "Adam = (torch.optim.Adam, {'betas':(0.9, 0.999), 'eps':1e-08,\n",
        "                           'amsgrad':False})\n",
        "Adadelta = (torch.optim.Adadelta, {'rho':0.9, 'eps':1e-06})\n",
        "Adagrad = (torch.optim.Adagrad, {'lr_decay':0, 'initial_accumulator_value':0,\n",
        "                                'eps':1e-10})"
      ],
      "execution_count": null,
      "outputs": []
    },
    {
      "cell_type": "code",
      "metadata": {
        "id": "nHnRrcOJk-1Q",
        "colab_type": "code",
        "colab": {
          "base_uri": "https://localhost:8080/",
          "height": 282
        },
        "outputId": "cef5917e-ceb8-404d-8536-9aa501c8c7a1"
      },
      "source": [
        "epochs = 20\n",
        "batch_size = 256\n",
        "\n",
        "traindata = MNISTDatasetC()\n",
        "testdata = MNISTDatasetC(train=False)\n",
        "traindata = torch.utils.data.DataLoader(dataset=traindata, \n",
        "                                           batch_size=batch_size, \n",
        "                                           shuffle=True)\n",
        "testdata = torch.utils.data.DataLoader(dataset=testdata, \n",
        "                                          batch_size=batch_size, \n",
        "                                          shuffle=False)\n",
        "\n",
        "mynet = NeuralNet(784, 10, nn.LogSoftmax(dim=1)).to(device)\n",
        "mynet.reset()\n",
        "mynet.learn(nn.NLLLoss(), epochs, traindata, testdata, optimizer=RMSprop,\n",
        "            r_lambda=1e-3, eta=0.002)\n",
        "\n",
        "plt.plot(np.arange(epochs), mynet.report['train_acc'], label=\"train\")\n",
        "plt.plot(np.arange(epochs), mynet.report['test_acc'], label=\"test\")\n",
        "\n",
        "plt.legend()\n",
        "plt.show()\n",
        "\n",
        "# regression \n",
        "# train loss:0.27970338 train acc:0.65 test loss:0.28329675 test acc:0.67\n",
        "\n",
        "# binary classification\n",
        "# train loss:0.02197217 train acc:0.95 test loss:0.05292147 test acc:0.87: Linear\n",
        "# train loss:0.01843358 train acc:0.95 test loss:0.01552843 test acc:0.96: Sigmoid + huber\n",
        "# train loss:0.07190176 train acc:0.98 test loss:0.09157893 test acc:0.97: Sigmoid + BCE\n",
        "\n"
      ],
      "execution_count": null,
      "outputs": [
        {
          "output_type": "stream",
          "text": [
            "100%|██████████|20/20[00:52<00:00, 2.63s/it] train loss:0.12794790 train acc:0.96 test loss:0.21182963 test acc:0.94: \n"
          ],
          "name": "stderr"
        },
        {
          "output_type": "display_data",
          "data": {
            "image/png": "[encoded data removed]",
            "text/plain": [
              "<Figure size 432x288 with 1 Axes>"
            ]
          },
          "metadata": {
            "tags": [],
            "needs_background": "light"
          }
        }
      ]
    },
    {
      "cell_type": "code",
      "metadata": {
        "id": "rduwBlI2C0cY",
        "colab_type": "code",
        "colab": {
          "base_uri": "https://localhost:8080/",
          "height": 465
        },
        "outputId": "53e19f12-0701-42a3-f3c4-970d81d1c711"
      },
      "source": [
        "from google.colab.patches import cv2_imshow\n",
        "\n",
        "c = 10\n",
        "for imgs, labels in testdata:\n",
        "    for img, label in zip(imgs, labels):\n",
        "        x, y = (img).to(device), (label).to(device)\n",
        "        img = (img.reshape(28,28,1) * 255).numpy().astype('uint8')\n",
        "        cv2_imshow(img)\n",
        "        with torch.no_grad():\n",
        "            out = mynet(x.reshape(-1, 28*28))\n",
        "            print(torch.argmax(out))\n",
        "            c -= 1\n",
        "        if c == 0:\n",
        "            break\n",
        "    break"
      ],
      "execution_count": null,
      "outputs": [
        {
          "output_type": "display_data",
          "data": {
            "image/png": "[encoded data removed]",
            "text/plain": [
              "<PIL.Image.Image image mode=RGB size=28x28 at 0x7FD099F335C0>"
            ]
          },
          "metadata": {
            "tags": []
          }
        },
        {
          "output_type": "stream",
          "text": [
            "tensor(7, device='cuda:0')\n"
          ],
          "name": "stdout"
        },
        {
          "output_type": "display_data",
          "data": {
            "image/png": "[encoded data removed]",
            "text/plain": [
              "<PIL.Image.Image image mode=RGB size=28x28 at 0x7FD099F309E8>"
            ]
          },
          "metadata": {
            "tags": []
          }
        },
        {
          "output_type": "stream",
          "text": [
            "tensor(2, device='cuda:0')\n"
          ],
          "name": "stdout"
        },
        {
          "output_type": "display_data",
          "data": {
            "image/png": "[encoded data removed]",
            "text/plain": [
              "<PIL.Image.Image image mode=RGB size=28x28 at 0x7FD099F30748>"
            ]
          },
          "metadata": {
            "tags": []
          }
        },
        {
          "output_type": "stream",
          "text": [
            "tensor(1, device='cuda:0')\n"
          ],
          "name": "stdout"
        },
        {
          "output_type": "display_data",
          "data": {
            "image/png": "[encoded data removed]",
            "text/plain": [
              "<PIL.Image.Image image mode=RGB size=28x28 at 0x7FD099F309E8>"
            ]
          },
          "metadata": {
            "tags": []
          }
        },
        {
          "output_type": "stream",
          "text": [
            "tensor(0, device='cuda:0')\n"
          ],
          "name": "stdout"
        },
        {
          "output_type": "display_data",
          "data": {
            "image/png": "[encoded data removed]",
            "text/plain": [
              "<PIL.Image.Image image mode=RGB size=28x28 at 0x7FD099F30748>"
            ]
          },
          "metadata": {
            "tags": []
          }
        },
        {
          "output_type": "stream",
          "text": [
            "tensor(4, device='cuda:0')\n"
          ],
          "name": "stdout"
        },
        {
          "output_type": "display_data",
          "data": {
            "image/png": "[encoded data removed]",
            "text/plain": [
              "<PIL.Image.Image image mode=RGB size=28x28 at 0x7FD099F309E8>"
            ]
          },
          "metadata": {
            "tags": []
          }
        },
        {
          "output_type": "stream",
          "text": [
            "tensor(1, device='cuda:0')\n"
          ],
          "name": "stdout"
        },
        {
          "output_type": "display_data",
          "data": {
            "image/png": "[encoded data removed]",
            "text/plain": [
              "<PIL.Image.Image image mode=RGB size=28x28 at 0x7FD099F30748>"
            ]
          },
          "metadata": {
            "tags": []
          }
        },
        {
          "output_type": "stream",
          "text": [
            "tensor(4, device='cuda:0')\n"
          ],
          "name": "stdout"
        },
        {
          "output_type": "display_data",
          "data": {
            "image/png": "[encoded data removed]",
            "text/plain": [
              "<PIL.Image.Image image mode=RGB size=28x28 at 0x7FD099F309E8>"
            ]
          },
          "metadata": {
            "tags": []
          }
        },
        {
          "output_type": "stream",
          "text": [
            "tensor(9, device='cuda:0')\n"
          ],
          "name": "stdout"
        },
        {
          "output_type": "display_data",
          "data": {
            "image/png": "[encoded data removed]",
            "text/plain": [
              "<PIL.Image.Image image mode=RGB size=28x28 at 0x7FD099F30748>"
            ]
          },
          "metadata": {
            "tags": []
          }
        },
        {
          "output_type": "stream",
          "text": [
            "tensor(6, device='cuda:0')\n"
          ],
          "name": "stdout"
        },
        {
          "output_type": "display_data",
          "data": {
            "image/png": "[encoded data removed]",
            "text/plain": [
              "<PIL.Image.Image image mode=RGB size=28x28 at 0x7FD099F309E8>"
            ]
          },
          "metadata": {
            "tags": []
          }
        },
        {
          "output_type": "stream",
          "text": [
            "tensor(9, device='cuda:0')\n"
          ],
          "name": "stdout"
        }
      ]
    },
    {
      "cell_type": "code",
      "metadata": {
        "id": "JFh7AnzWFn-j",
        "colab_type": "code",
        "colab": {}
      },
      "source": [
        "class ToyNet(nn.Module):\n",
        "    def __init__(self, seed=43):\n",
        "        super(ToyNet, self).__init__()\n",
        "        torch.manual_seed(seed)\n",
        "        torch.cuda.manual_seed(seed)\n",
        "\n",
        "        self.toy = nn.Linear(1, 1)\n",
        "\n",
        "        self.sigmoid = nn.Sigmoid()\n",
        "    \n",
        "    def forward(self, x):\n",
        "        out = self.toy(x)\n",
        "        out = self.sigmoid(out)\n",
        "        return out\n",
        "\n",
        "    def learn(self, criterion, epochs, toydata, eta=0.001, verbos=1):\n",
        "\n",
        "        optimizer = torch.optim.SGD(self.parameters(), lr=eta, momentum=0.9)\n",
        "\n",
        "        t = tqdm(range(epochs), disable=(not verbos), position=0, leave=True)\n",
        "        for i in t:\n",
        "            for step, (x, y) in enumerate(toydata):\n",
        "                x, y = x.to(device), y.to(device)\n",
        "                out = self(x)\n",
        "                loss = criterion(out, y)\n",
        "                \n",
        "                optimizer.zero_grad()\n",
        "                loss.backward()\n",
        "                optimizer.step()\n",
        "\n",
        "    def weight_init(self, m):\n",
        "        if isinstance(m, nn.Linear):\n",
        "            nn.init.xavier_uniform_(m.weight, gain=nn.init.calculate_gain('relu'))\n",
        "            nn.init.zeros_(m.bias)\n",
        "\n",
        "    def reset(self):\n",
        "        self.apply(self.weight_init)"
      ],
      "execution_count": null,
      "outputs": []
    },
    {
      "cell_type": "code",
      "metadata": {
        "id": "cz4U9ZjGgeW9",
        "colab_type": "code",
        "colab": {}
      },
      "source": [
        "class ToyDataset(torch.utils.data.Dataset):\n",
        "    def __init__(self):\n",
        "        x = np.array([0.0])\n",
        "        y = np.array([1.0])\n",
        "        self.X = torch.from_numpy((x).reshape(-1, 1).astype('float32'))\n",
        "        self.y = torch.from_numpy((y).reshape(-1, 1).astype('float32'))\n",
        "            \n",
        "    def __getitem__(self, index):\n",
        "        return self.X[index], self.y[index]\n",
        "\n",
        "    def __len__(self):\n",
        "        return self.X.shape[-1]"
      ],
      "execution_count": null,
      "outputs": []
    },
    {
      "cell_type": "code",
      "metadata": {
        "id": "NCknYxlfg2Pl",
        "colab_type": "code",
        "colab": {
          "base_uri": "https://localhost:8080/",
          "height": 67
        },
        "outputId": "77264562-eb45-4292-e83d-81a65671100d"
      },
      "source": [
        "epochs = 100\n",
        "\n",
        "toydata = ToyDataset()\n",
        "toydata = torch.utils.data.DataLoader(dataset=toydata)\n",
        "\n",
        "mynet = ToyNet().to(device)\n",
        "mynet.reset()\n",
        "mynet.learn(nn.SmoothL1Loss(), epochs, toydata, eta=0.01)\n",
        "\n",
        "x = (torch.tensor([0.0])).to(device)\n",
        "print()\n",
        "print(mynet(x))"
      ],
      "execution_count": null,
      "outputs": [
        {
          "output_type": "stream",
          "text": [
            "100%|██████████| 100/100 [00:00<00:00, 804.52it/s]"
          ],
          "name": "stderr"
        },
        {
          "output_type": "stream",
          "text": [
            "\n",
            "tensor([0.7049], device='cuda:0', grad_fn=<SigmoidBackward>)\n"
          ],
          "name": "stdout"
        },
        {
          "output_type": "stream",
          "text": [
            "\n"
          ],
          "name": "stderr"
        }
      ]
    }
  ]
}