{
  "nbformat": 4,
  "nbformat_minor": 0,
  "metadata": {
    "colab": {
      "name": "NN_Episode5.ipynb",
      "provenance": []
    },
    "kernelspec": {
      "name": "python3",
      "display_name": "Python 3"
    }
  },
  "cells": [
    {
      "cell_type": "code",
      "metadata": {
        "id": "yCwLxeWbm2SA",
        "colab_type": "code",
        "colab": {}
      },
      "source": [
        "import numpy as np\n",
        "from tqdm import tqdm\n",
        "import matplotlib.pyplot as plt\n",
        "plt.rcParams['figure.figsize'] = [20, 10]"
      ],
      "execution_count": 24,
      "outputs": []
    },
    {
      "cell_type": "code",
      "metadata": {
        "id": "oKkZkniunAOx",
        "colab_type": "code",
        "colab": {}
      },
      "source": [
        "''' Activation Functions '''\n",
        "\n",
        "def relu(x, p=False):\n",
        "    if p: return 1 * (x > 0)\n",
        "    return x * (x > 0)\n",
        "\n",
        "def linear(x, p=False):\n",
        "    if p: return np.ones_like(x)\n",
        "    return x"
      ],
      "execution_count": 2,
      "outputs": []
    },
    {
      "cell_type": "code",
      "metadata": {
        "id": "R_ub1wm_nAtn",
        "colab_type": "code",
        "colab": {}
      },
      "source": [
        "''' Cost Functions '''\n",
        "\n",
        "def MSE(output_acts, y, p=False):\n",
        "    if p: return (output_acts-y)\n",
        "    return 0.5*(output_acts-y)**2"
      ],
      "execution_count": 3,
      "outputs": []
    },
    {
      "cell_type": "code",
      "metadata": {
        "id": "Gy1sNTm1nDsE",
        "colab_type": "code",
        "colab": {}
      },
      "source": [
        "''' Optimization Functions '''\n",
        "\n",
        "def sgd(lr, nabla, cache, alpha=0.9):\n",
        "    cache = [alpha*c - lr*n for n, c in zip(nabla, cache)]\n",
        "    update = cache.copy()\n",
        "    return cache, update"
      ],
      "execution_count": 4,
      "outputs": []
    },
    {
      "cell_type": "code",
      "metadata": {
        "id": "p6HTjTSFrmBP",
        "colab_type": "code",
        "colab": {}
      },
      "source": [
        "''' Network Class '''\n",
        "\n",
        "class Network:\n",
        "\n",
        "    def __init__(self, s=43):\n",
        "        np.random.seed(s)\n",
        "        self.layer_cnt = 0\n",
        "        self.weights = []\n",
        "        self.biases = []\n",
        "        self.act_funcs = []\n",
        "        self.report = dict()\n",
        "        self.report['loss'] = []\n",
        "        self.report['re'] = []\n",
        "\n",
        "    def dense(self, neuron_cnt, act_func, input_shape=None):\n",
        "        if self.layer_cnt == 0 and (not input_shape):\n",
        "            raise Exception('First Layer Must Have Input Shape')\n",
        "\n",
        "        self.layer_cnt += 1\n",
        "\n",
        "        if self.layer_cnt == 1:\n",
        "            self.weights.append(np.random.normal(0, 0.05, (neuron_cnt, input_shape)))\n",
        "        else:\n",
        "            self.weights.append(np.random.normal(0, 0.05, (neuron_cnt, self.weights[-1].shape[0])))\n",
        "\n",
        "        self.biases.append(np.zeros((neuron_cnt, 1)))\n",
        "        self.act_funcs.append(act_func)\n",
        "\n",
        "    def feedforward(self, x):\n",
        "        pre_acts, acts = [], []\n",
        "        act = np.array(x)\n",
        "\n",
        "        acts.append(act)\n",
        "\n",
        "        for w, b, a in zip(self.weights, self.biases, self.act_funcs):\n",
        "            pre_act = np.dot(w, act) + b\n",
        "            act = a(pre_act)\n",
        "            pre_acts.append(pre_act)\n",
        "            acts.append(act)\n",
        "\n",
        "        return pre_acts, acts, act\n",
        "\n",
        "    def backprop(self, x, y, cost_func):\n",
        "        nabla_b = [np.zeros(b.shape) for b in self.biases]\n",
        "        nabla_w = [np.zeros(w.shape) for w in self.weights]\n",
        "\n",
        "        pre_acts, acts, out = self.feedforward(x)\n",
        "\n",
        "        delta = cost_func(acts[-1], y, p=True) * self.act_funcs[-1](pre_acts[-1], p=True)\n",
        "        nabla_w[-1] = np.dot(delta, acts[-2].T)\n",
        "        nabla_b[-1] = delta\n",
        "\n",
        "        for i in range(2, self.layer_cnt+1):\n",
        "            delta = np.dot(self.weights[-i+1].T, delta) * self.act_funcs[-i](pre_acts[-i], p=True)\n",
        "            nabla_w[-i] = np.dot(delta, acts[-i-1].T)\n",
        "            nabla_b[-i] = delta\n",
        "\n",
        "        return nabla_w, nabla_b, out\n",
        "\n",
        "    def next_mini_batch(self, dataset, batch_size):\n",
        "        N = dataset['count']\n",
        "        indxs = np.arange(N)\n",
        "        np.random.shuffle(indxs)\n",
        "\n",
        "        for i in range(0, N-batch_size+1, batch_size):\n",
        "            mini_batch = indxs[i:i+batch_size]\n",
        "            yield zip(dataset['X'][mini_batch], dataset['y'][mini_batch])\n",
        "\n",
        "    def learn(self, cost_func, epochs, dataset,\n",
        "            optimizer, eta=0.001, alpha=0.9, batch_size=32,\n",
        "            verbos=1):\n",
        "\n",
        "        for i in tqdm(range(epochs), disable=(not verbos)):\n",
        "            lr = eta/batch_size\n",
        "\n",
        "            cache_b = [np.zeros(b.shape) for b in self.biases]\n",
        "            cache_w = [np.zeros(w.shape) for w in self.weights]\n",
        "            y_, y_h = [], []\n",
        "\n",
        "            for mini_batch in self.next_mini_batch(dataset, batch_size):\n",
        "                nabla_b = [np.zeros(b.shape) for b in self.biases]\n",
        "                nabla_w = [np.zeros(w.shape) for w in self.weights]\n",
        "\n",
        "                for x, y in mini_batch:\n",
        "                    delta_nabla_w, delta_nabla_b, out = self.backprop(x, y, cost_func)\n",
        "                    nabla_b = [nb+dnb for nb, dnb in zip(nabla_b, delta_nabla_b)] \n",
        "                    nabla_w = [nw+dnw for nw, dnw in zip(nabla_w, delta_nabla_w)]\n",
        "                    y_.append(y)\n",
        "                    y_h.append(out)\n",
        "\n",
        "                cache_b, update_b = optimizer(lr, nabla_b, cache_b)\n",
        "                self.biases = [b+nb for b, nb in zip(self.biases, update_b)]\n",
        "                cache_w, update_w = optimizer(lr, nabla_w, cache_w)\n",
        "                self.weights = [w+nw for w, nw in zip(self.weights, update_w)]\n",
        "\n",
        "            y_, y_h = np.array(y_).ravel(), np.array(y_h).ravel()\n",
        "            self.report['loss'].append(np.mean(cost_func(y_h, y_)))\n",
        "            self.report['re'].append(np.mean(np.abs((y_h-y_)/y_)))\n",
        "\n",
        "            if verbos == 1:\n",
        "                print('loss: ', self.report['loss'][-1],\n",
        "                      'reletive error: ', self.report['re'][-1])\n",
        "\n",
        "    def reset(self):\n",
        "        self.biases = [np.random.rand(*b.shape) for b in self.biases]\n",
        "        self.weights = [np.random.rand(*w.shape) for w in self.weights]\n",
        "        self.report['loss'] = []\n",
        "        self.report['re'] = []"
      ],
      "execution_count": 15,
      "outputs": []
    },
    {
      "cell_type": "code",
      "metadata": {
        "id": "hlKzag3ptZQM",
        "colab_type": "code",
        "colab": {}
      },
      "source": [
        "''' Dataset Functions '''\n",
        "\n",
        "def make_dataset(N):\n",
        "    dataset = dict()\n",
        "    dataset['count'] = N\n",
        "    dataset['X'] = np.random.uniform(-1, 1, (N, 2, 1))\n",
        "    dataset['y'] = np.sin(dataset['X'][:, 0]) + np.cos(dataset['X'][:, 1]) \n",
        "\n",
        "    return dataset"
      ],
      "execution_count": 6,
      "outputs": []
    },
    {
      "cell_type": "code",
      "metadata": {
        "id": "5xav9wSZtb9q",
        "colab_type": "code",
        "colab": {
          "base_uri": "https://localhost:8080/",
          "height": 792
        },
        "outputId": "91e1374a-e37d-440a-fcc5-32ee48b0ddc7"
      },
      "source": [
        "mynet = Network()\n",
        "\n",
        "mynet.dense(4, relu, 2)\n",
        "mynet.dense(8, relu)\n",
        "mynet.dense(1, linear)\n",
        "\n",
        "mydata = make_dataset(10000)\n",
        "\n",
        "optimizer = lambda lr, nabla, cache: sgd(lr, nabla, cache, alpha=0.9)\n",
        "\n",
        "x = np.arange(10, 100)\n",
        "for bs in tqdm([1, 2, 4, 8, 16, 32, 64, 128, 256]):\n",
        "    mynet.reset()\n",
        "    mynet.learn(MSE, 100, mydata, optimizer, eta=0.001, batch_size=bs, alpha=0.9, verbos=0)\n",
        "\n",
        "    plt.plot(x, mynet.report['loss'][10:], label=\"loss bs:\" + str(bs))\n",
        "\n",
        "plt.legend()\n",
        "plt.show()"
      ],
      "execution_count": 23,
      "outputs": [
        {
          "output_type": "stream",
          "text": [
            "\n",
            "\n",
            "\n",
            "  0%|          | 0/9 [00:00<?, ?it/s]\u001b[A\u001b[A\u001b[A\n",
            "\n",
            "\n",
            " 11%|█         | 1/9 [01:38<13:08, 98.55s/it]\u001b[A\u001b[A\u001b[A\n",
            "\n",
            "\n",
            " 22%|██▏       | 2/9 [02:58<10:50, 92.88s/it]\u001b[A\u001b[A\u001b[A\n",
            "\n",
            "\n",
            " 33%|███▎      | 3/9 [04:07<08:34, 85.76s/it]\u001b[A\u001b[A\u001b[A\n",
            "\n",
            "\n",
            " 44%|████▍     | 4/9 [05:11<06:35, 79.19s/it]\u001b[A\u001b[A\u001b[A\n",
            "\n",
            "\n",
            " 56%|█████▌    | 5/9 [06:12<04:54, 73.69s/it]\u001b[A\u001b[A\u001b[A\n",
            "\n",
            "\n",
            " 67%|██████▋   | 6/9 [07:11<03:27, 69.27s/it]\u001b[A\u001b[A\u001b[A\n",
            "\n",
            "\n",
            " 78%|███████▊  | 7/9 [08:09<02:12, 66.02s/it]\u001b[A\u001b[A\u001b[A\n",
            "\n",
            "\n",
            " 89%|████████▉ | 8/9 [09:07<01:03, 63.68s/it]\u001b[A\u001b[A\u001b[A\n",
            "\n",
            "\n",
            "100%|██████████| 9/9 [10:05<00:00, 67.32s/it]\n"
          ],
          "name": "stderr"
        },
        {
          "output_type": "display_data",
          "data": {
            "image/png": "[encoded data removed]",
            "text/plain": [
              "<Figure size 432x288 with 1 Axes>"
            ]
          },
          "metadata": {
            "tags": [],
            "needs_background": "light"
          }
        }
      ]
    }
  ]
}