{
  "nbformat": 4,
  "nbformat_minor": 0,
  "metadata": {
    "colab": {
      "name": "NN_Episode6.ipynb",
      "provenance": []
    },
    "kernelspec": {
      "name": "python3",
      "display_name": "Python 3"
    }
  },
  "cells": [
    {
      "cell_type": "code",
      "metadata": {
        "id": "yCwLxeWbm2SA",
        "colab_type": "code",
        "colab": {}
      },
      "source": [
        "import numpy as np\n",
        "from tqdm import tqdm\n",
        "import matplotlib.pyplot as plt\n",
        "plt.rcParams['figure.figsize'] = [20, 10]"
      ],
      "execution_count": 13,
      "outputs": []
    },
    {
      "cell_type": "code",
      "metadata": {
        "id": "oKkZkniunAOx",
        "colab_type": "code",
        "colab": {}
      },
      "source": [
        "''' Activation Functions '''\n",
        "\n",
        "def relu(x, p=False):\n",
        "    if p: return 1 * (x > 0)\n",
        "    return x * (x > 0)\n",
        "\n",
        "def linear(x, p=False):\n",
        "    if p: return np.ones_like(x)\n",
        "    return x"
      ],
      "execution_count": 2,
      "outputs": []
    },
    {
      "cell_type": "code",
      "metadata": {
        "id": "R_ub1wm_nAtn",
        "colab_type": "code",
        "colab": {}
      },
      "source": [
        "''' Cost Functions '''\n",
        "\n",
        "def MSE(output_acts, y, p=False):\n",
        "    if p: return (output_acts-y)\n",
        "    return 0.5*(output_acts-y)**2"
      ],
      "execution_count": 3,
      "outputs": []
    },
    {
      "cell_type": "code",
      "metadata": {
        "id": "Gy1sNTm1nDsE",
        "colab_type": "code",
        "colab": {}
      },
      "source": [
        "''' Optimization Functions '''\n",
        "\n",
        "def sgd(lr, nabla, cache, alpha=0.9, nasterov=False):\n",
        "    cache = [alpha*c - lr*n for n, c in zip(nabla, cache)]\n",
        "    update = [-lr*n for n in nabla] if nasterov else cache.copy()\n",
        "    return cache, update"
      ],
      "execution_count": 35,
      "outputs": []
    },
    {
      "cell_type": "code",
      "metadata": {
        "id": "J5hMOggAm0nR",
        "colab_type": "code",
        "colab": {}
      },
      "source": [
        "''' Learning Rate Schedulers '''\n",
        "\n",
        "def constant(lr, epoch):\n",
        "    return lr\n",
        "\n",
        "def time_decay(lr, epoch, decay_rate):\n",
        "    return lr / (1. + decay_rate*epoch)\n",
        "\n",
        "def exp_decay(lr, epoch, decay_rate):\n",
        "    return lr * np.exp(-epoch*decay_rate)\n",
        "\n",
        "def step_decay(lr, epoch, decay_rate, decay_step):\n",
        "    return lr * decay_rate**(np.floor(epoch/decay_step))"
      ],
      "execution_count": 32,
      "outputs": []
    },
    {
      "cell_type": "code",
      "metadata": {
        "id": "p6HTjTSFrmBP",
        "colab_type": "code",
        "colab": {}
      },
      "source": [
        "''' Network Class '''\n",
        "\n",
        "class Network:\n",
        "\n",
        "    def __init__(self, s=43):\n",
        "        np.random.seed(s)\n",
        "        self.layer_cnt = 0\n",
        "        self.weights = []\n",
        "        self.biases = []\n",
        "        self.act_funcs = []\n",
        "        self.report = dict()\n",
        "        self.report['loss'] = []\n",
        "        self.report['re'] = []\n",
        "\n",
        "    def dense(self, neuron_cnt, act_func, input_shape=None):\n",
        "        if self.layer_cnt == 0 and (not input_shape):\n",
        "            raise Exception('First Layer Must Have Input Shape')\n",
        "\n",
        "        self.layer_cnt += 1\n",
        "\n",
        "        if self.layer_cnt == 1:\n",
        "            self.weights.append(np.random.normal(0, 0.05, (neuron_cnt, input_shape)))\n",
        "        else:\n",
        "            self.weights.append(np.random.normal(0, 0.05, (neuron_cnt, self.weights[-1].shape[0])))\n",
        "\n",
        "        self.biases.append(np.zeros((neuron_cnt, 1)))\n",
        "        self.act_funcs.append(act_func)\n",
        "\n",
        "    def feedforward(self, x):\n",
        "        pre_acts, acts = [], []\n",
        "        act = np.array(x)\n",
        "\n",
        "        acts.append(act)\n",
        "\n",
        "        for w, b, a in zip(self.weights, self.biases, self.act_funcs):\n",
        "            pre_act = np.dot(w, act) + b\n",
        "            act = a(pre_act)\n",
        "            pre_acts.append(pre_act)\n",
        "            acts.append(act)\n",
        "\n",
        "        return pre_acts, acts, act\n",
        "\n",
        "    def backprop(self, x, y, cost_func):\n",
        "        nabla_b = [np.zeros(b.shape) for b in self.biases]\n",
        "        nabla_w = [np.zeros(w.shape) for w in self.weights]\n",
        "\n",
        "        pre_acts, acts, out = self.feedforward(x)\n",
        "\n",
        "        delta = cost_func(acts[-1], y, p=True) * self.act_funcs[-1](pre_acts[-1], p=True)\n",
        "        nabla_w[-1] = np.dot(delta, acts[-2].T)\n",
        "        nabla_b[-1] = delta\n",
        "\n",
        "        for i in range(2, self.layer_cnt+1):\n",
        "            delta = np.dot(self.weights[-i+1].T, delta) * self.act_funcs[-i](pre_acts[-i], p=True)\n",
        "            nabla_w[-i] = np.dot(delta, acts[-i-1].T)\n",
        "            nabla_b[-i] = delta\n",
        "\n",
        "        return nabla_w, nabla_b, out\n",
        "\n",
        "    def next_mini_batch(self, dataset, batch_size):\n",
        "        N = dataset['count']\n",
        "        indxs = np.arange(N)\n",
        "        np.random.shuffle(indxs)\n",
        "\n",
        "        for i in range(0, N-batch_size+1, batch_size):\n",
        "            mini_batch = indxs[i:i+batch_size]\n",
        "            yield zip(dataset['X'][mini_batch], dataset['y'][mini_batch])\n",
        "\n",
        "    def learn(self, cost_func, epochs, dataset,\n",
        "            optimizer, lr_schedulers, nasterov=False,\n",
        "            eta=0.001, alpha=0.9, batch_size=32, verbos=1):\n",
        "\n",
        "        for i in tqdm(range(epochs), disable=(not verbos)):\n",
        "            eta_ = lr_schedulers(eta, i)\n",
        "            lr = eta_/batch_size\n",
        "\n",
        "            cache_b = [np.zeros(b.shape) for b in self.biases]\n",
        "            cache_w = [np.zeros(w.shape) for w in self.weights]\n",
        "            y_, y_h = [], []\n",
        "\n",
        "            for mini_batch in self.next_mini_batch(dataset, batch_size):\n",
        "                nabla_b = [np.zeros(b.shape) for b in self.biases]\n",
        "                nabla_w = [np.zeros(w.shape) for w in self.weights]\n",
        "\n",
        "                if nasterov:\n",
        "                    self.biases = [b + alpha*c for b, c in zip(self.biases, cache_b)]\n",
        "                    self.weights = [w + alpha*c for w, c in zip(self.weights, cache_w)]\n",
        "\n",
        "                for x, y in mini_batch:\n",
        "                    delta_nabla_w, delta_nabla_b, out = self.backprop(x, y, cost_func)\n",
        "                    nabla_b = [nb+dnb for nb, dnb in zip(nabla_b, delta_nabla_b)] \n",
        "                    nabla_w = [nw+dnw for nw, dnw in zip(nabla_w, delta_nabla_w)]\n",
        "                    y_.append(y)\n",
        "                    y_h.append(out)\n",
        "\n",
        "                cache_b, update_b = optimizer(lr, nabla_b, cache_b)\n",
        "                self.biases = [b+nb for b, nb in zip(self.biases, update_b)]\n",
        "                cache_w, update_w = optimizer(lr, nabla_w, cache_w)\n",
        "                self.weights = [w+nw for w, nw in zip(self.weights, update_w)]\n",
        "\n",
        "            y_, y_h = np.array(y_).ravel(), np.array(y_h).ravel()\n",
        "            self.report['loss'].append(np.mean(cost_func(y_h, y_)))\n",
        "            self.report['re'].append(np.mean(np.abs((y_h-y_)/y_)))\n",
        "\n",
        "            if verbos == 1:\n",
        "                print('loss: ', self.report['loss'][-1],\n",
        "                      'reletive error: ', self.report['re'][-1])\n",
        "\n",
        "    def reset(self):\n",
        "        self.biases = [np.random.rand(*b.shape) for b in self.biases]\n",
        "        self.weights = [np.random.rand(*w.shape) for w in self.weights]\n",
        "        self.report['loss'] = []\n",
        "        self.report['re'] = []"
      ],
      "execution_count": 36,
      "outputs": []
    },
    {
      "cell_type": "code",
      "metadata": {
        "id": "hlKzag3ptZQM",
        "colab_type": "code",
        "colab": {}
      },
      "source": [
        "''' Dataset Functions '''\n",
        "\n",
        "def make_dataset(N):\n",
        "    dataset = dict()\n",
        "    dataset['count'] = N\n",
        "    dataset['X'] = np.random.uniform(-1, 1, (N, 10, 1))\n",
        "    dataset['y'] = np.sin(np.mean(dataset['X'][:, :5], axis=1)) + \\\n",
        "                    np.cos(np.mean(dataset['X'][:, 5:], axis=1))\n",
        "\n",
        "    return dataset"
      ],
      "execution_count": 6,
      "outputs": []
    },
    {
      "cell_type": "code",
      "metadata": {
        "id": "5xav9wSZtb9q",
        "colab_type": "code",
        "colab": {
          "base_uri": "https://localhost:8080/",
          "height": 1000
        },
        "outputId": "85050abf-14ef-42c5-c3d7-929c9d39a1ff"
      },
      "source": [
        "mynet = Network()\n",
        "\n",
        "mynet.dense(16, relu, 10)\n",
        "mynet.dense(32, relu)\n",
        "mynet.dense(1, linear)\n",
        "\n",
        "mydata = make_dataset(10000)\n",
        "x = np.arange(10, 50)\n",
        "\n",
        "optimizer = lambda lr, nabla, cache: sgd(lr, nabla, cache, alpha=0.9, nasterov=True)\n",
        "\n",
        "lr_schedulers = lambda lr, epoch: constant(lr, epoch)\n",
        "\n",
        "mynet.reset()\n",
        "mynet.learn(MSE, 50, mydata, optimizer, lr_schedulers, nasterov=True,\n",
        "            eta=0.0002, batch_size=16, alpha=0.9, verbos=1)\n",
        "plt.plot(x, mynet.report['loss'][10:], label=\"loss nasterov\")\n",
        "\n",
        "optimizer = lambda lr, nabla, cache: sgd(lr, nabla, cache, alpha=0.9, nasterov=False)\n",
        "\n",
        "mynet.reset()\n",
        "mynet.learn(MSE, 50, mydata, optimizer, lr_schedulers, nasterov=False,\n",
        "            eta=0.0002, batch_size=16, alpha=0.9, verbos=1)\n",
        "plt.plot(x, mynet.report['loss'][10:], label=\"loss\")\n",
        "\n",
        "\n",
        "plt.legend()\n",
        "plt.show()"
      ],
      "execution_count": 38,
      "outputs": [
        {
          "output_type": "stream",
          "text": [
            "\n",
            "  0%|          | 0/50 [00:00<?, ?it/s]\u001b[A\n",
            "  2%|▏         | 1/50 [00:00<00:41,  1.17it/s]\u001b[A"
          ],
          "name": "stderr"
        },
        {
          "output_type": "stream",
          "text": [
            "loss:  13.595458681449918 reletive error:  0.6892003289521935\n"
          ],
          "name": "stdout"
        },
        {
          "output_type": "stream",
          "text": [
            "\n",
            "  4%|▍         | 2/50 [00:01<00:41,  1.16it/s]\u001b[A"
          ],
          "name": "stderr"
        },
        {
          "output_type": "stream",
          "text": [
            "loss:  0.03291485970581074 reletive error:  0.22572499929409964\n"
          ],
          "name": "stdout"
        },
        {
          "output_type": "stream",
          "text": [
            "\n",
            "  6%|▌         | 3/50 [00:02<00:40,  1.15it/s]\u001b[A"
          ],
          "name": "stderr"
        },
        {
          "output_type": "stream",
          "text": [
            "loss:  0.029234648252004558 reletive error:  0.2259158806298033\n"
          ],
          "name": "stdout"
        },
        {
          "output_type": "stream",
          "text": [
            "\n",
            "  8%|▊         | 4/50 [00:03<00:40,  1.14it/s]\u001b[A"
          ],
          "name": "stderr"
        },
        {
          "output_type": "stream",
          "text": [
            "loss:  0.02764303485725144 reletive error:  0.2245356520407465\n"
          ],
          "name": "stdout"
        },
        {
          "output_type": "stream",
          "text": [
            "\n",
            " 10%|█         | 5/50 [00:04<00:39,  1.15it/s]\u001b[A"
          ],
          "name": "stderr"
        },
        {
          "output_type": "stream",
          "text": [
            "loss:  0.02657020701269596 reletive error:  0.22244011236370903\n"
          ],
          "name": "stdout"
        },
        {
          "output_type": "stream",
          "text": [
            "\n",
            " 12%|█▏        | 6/50 [00:05<00:38,  1.15it/s]\u001b[A"
          ],
          "name": "stderr"
        },
        {
          "output_type": "stream",
          "text": [
            "loss:  0.02571018756430023 reletive error:  0.21920189753120062\n"
          ],
          "name": "stdout"
        },
        {
          "output_type": "stream",
          "text": [
            "\n",
            " 14%|█▍        | 7/50 [00:06<00:37,  1.15it/s]\u001b[A"
          ],
          "name": "stderr"
        },
        {
          "output_type": "stream",
          "text": [
            "loss:  0.02509177544165027 reletive error:  0.21748686405648732\n"
          ],
          "name": "stdout"
        },
        {
          "output_type": "stream",
          "text": [
            "\n",
            " 16%|█▌        | 8/50 [00:07<00:36,  1.14it/s]\u001b[A"
          ],
          "name": "stderr"
        },
        {
          "output_type": "stream",
          "text": [
            "loss:  0.024560682844484875 reletive error:  0.21613856458009195\n"
          ],
          "name": "stdout"
        },
        {
          "output_type": "stream",
          "text": [
            "\n",
            " 18%|█▊        | 9/50 [00:07<00:36,  1.14it/s]\u001b[A"
          ],
          "name": "stderr"
        },
        {
          "output_type": "stream",
          "text": [
            "loss:  0.02407347786784184 reletive error:  0.21421431899369253\n"
          ],
          "name": "stdout"
        },
        {
          "output_type": "stream",
          "text": [
            "\n",
            " 20%|██        | 10/50 [00:08<00:35,  1.13it/s]\u001b[A"
          ],
          "name": "stderr"
        },
        {
          "output_type": "stream",
          "text": [
            "loss:  0.02369180783508703 reletive error:  0.21289359774007707\n"
          ],
          "name": "stdout"
        },
        {
          "output_type": "stream",
          "text": [
            "\n",
            " 22%|██▏       | 11/50 [00:09<00:35,  1.11it/s]\u001b[A"
          ],
          "name": "stderr"
        },
        {
          "output_type": "stream",
          "text": [
            "loss:  0.023328153335571138 reletive error:  0.2118059993418079\n"
          ],
          "name": "stdout"
        },
        {
          "output_type": "stream",
          "text": [
            "\n",
            " 24%|██▍       | 12/50 [00:10<00:34,  1.10it/s]\u001b[A"
          ],
          "name": "stderr"
        },
        {
          "output_type": "stream",
          "text": [
            "loss:  0.023013147120438223 reletive error:  0.21041440012976295\n"
          ],
          "name": "stdout"
        },
        {
          "output_type": "stream",
          "text": [
            "\n",
            " 26%|██▌       | 13/50 [00:11<00:33,  1.11it/s]\u001b[A"
          ],
          "name": "stderr"
        },
        {
          "output_type": "stream",
          "text": [
            "loss:  0.022723667295060927 reletive error:  0.20934944303596112\n"
          ],
          "name": "stdout"
        },
        {
          "output_type": "stream",
          "text": [
            "\n",
            " 28%|██▊       | 14/50 [00:12<00:32,  1.11it/s]\u001b[A"
          ],
          "name": "stderr"
        },
        {
          "output_type": "stream",
          "text": [
            "loss:  0.02245868513276829 reletive error:  0.20826223140017064\n"
          ],
          "name": "stdout"
        },
        {
          "output_type": "stream",
          "text": [
            "\n",
            " 30%|███       | 15/50 [00:13<00:31,  1.11it/s]\u001b[A"
          ],
          "name": "stderr"
        },
        {
          "output_type": "stream",
          "text": [
            "loss:  0.02217939025091716 reletive error:  0.20719835821651195\n"
          ],
          "name": "stdout"
        },
        {
          "output_type": "stream",
          "text": [
            "\n",
            " 32%|███▏      | 16/50 [00:14<00:30,  1.11it/s]\u001b[A"
          ],
          "name": "stderr"
        },
        {
          "output_type": "stream",
          "text": [
            "loss:  0.021948228991062246 reletive error:  0.20638395243611385\n"
          ],
          "name": "stdout"
        },
        {
          "output_type": "stream",
          "text": [
            "\n",
            " 34%|███▍      | 17/50 [00:15<00:29,  1.11it/s]\u001b[A"
          ],
          "name": "stderr"
        },
        {
          "output_type": "stream",
          "text": [
            "loss:  0.021695930382177455 reletive error:  0.20543506645017137\n"
          ],
          "name": "stdout"
        },
        {
          "output_type": "stream",
          "text": [
            "\n",
            " 36%|███▌      | 18/50 [00:16<00:28,  1.11it/s]\u001b[A"
          ],
          "name": "stderr"
        },
        {
          "output_type": "stream",
          "text": [
            "loss:  0.021502572716871206 reletive error:  0.2045471057658821\n"
          ],
          "name": "stdout"
        },
        {
          "output_type": "stream",
          "text": [
            "\n",
            " 38%|███▊      | 19/50 [00:16<00:27,  1.11it/s]\u001b[A"
          ],
          "name": "stderr"
        },
        {
          "output_type": "stream",
          "text": [
            "loss:  0.021302921340050796 reletive error:  0.203708521348529\n"
          ],
          "name": "stdout"
        },
        {
          "output_type": "stream",
          "text": [
            "\n",
            " 40%|████      | 20/50 [00:17<00:26,  1.12it/s]\u001b[A"
          ],
          "name": "stderr"
        },
        {
          "output_type": "stream",
          "text": [
            "loss:  0.02108696903134766 reletive error:  0.20302616052602862\n"
          ],
          "name": "stdout"
        },
        {
          "output_type": "stream",
          "text": [
            "\n",
            " 42%|████▏     | 21/50 [00:18<00:25,  1.12it/s]\u001b[A"
          ],
          "name": "stderr"
        },
        {
          "output_type": "stream",
          "text": [
            "loss:  0.02090949868928272 reletive error:  0.20226710581170976\n"
          ],
          "name": "stdout"
        },
        {
          "output_type": "stream",
          "text": [
            "\n",
            " 44%|████▍     | 22/50 [00:19<00:24,  1.13it/s]\u001b[A"
          ],
          "name": "stderr"
        },
        {
          "output_type": "stream",
          "text": [
            "loss:  0.02070524315915951 reletive error:  0.2016606640811357\n"
          ],
          "name": "stdout"
        },
        {
          "output_type": "stream",
          "text": [
            "\n",
            " 46%|████▌     | 23/50 [00:20<00:24,  1.11it/s]\u001b[A"
          ],
          "name": "stderr"
        },
        {
          "output_type": "stream",
          "text": [
            "loss:  0.020519494269455107 reletive error:  0.20056415486094276\n"
          ],
          "name": "stdout"
        },
        {
          "output_type": "stream",
          "text": [
            "\n",
            " 48%|████▊     | 24/50 [00:21<00:23,  1.12it/s]\u001b[A"
          ],
          "name": "stderr"
        },
        {
          "output_type": "stream",
          "text": [
            "loss:  0.020354125750418187 reletive error:  0.19967141730924046\n"
          ],
          "name": "stdout"
        },
        {
          "output_type": "stream",
          "text": [
            "\n",
            " 50%|█████     | 25/50 [00:22<00:22,  1.13it/s]\u001b[A"
          ],
          "name": "stderr"
        },
        {
          "output_type": "stream",
          "text": [
            "loss:  0.02016084681457792 reletive error:  0.19862266843423862\n"
          ],
          "name": "stdout"
        },
        {
          "output_type": "stream",
          "text": [
            "\n",
            " 52%|█████▏    | 26/50 [00:23<00:21,  1.12it/s]\u001b[A"
          ],
          "name": "stderr"
        },
        {
          "output_type": "stream",
          "text": [
            "loss:  0.019960137436027793 reletive error:  0.19834336795332874\n"
          ],
          "name": "stdout"
        },
        {
          "output_type": "stream",
          "text": [
            "\n",
            " 54%|█████▍    | 27/50 [00:24<00:20,  1.13it/s]\u001b[A"
          ],
          "name": "stderr"
        },
        {
          "output_type": "stream",
          "text": [
            "loss:  0.01979074925204352 reletive error:  0.1974913869628609\n"
          ],
          "name": "stdout"
        },
        {
          "output_type": "stream",
          "text": [
            "\n",
            " 56%|█████▌    | 28/50 [00:24<00:19,  1.13it/s]\u001b[A"
          ],
          "name": "stderr"
        },
        {
          "output_type": "stream",
          "text": [
            "loss:  0.019628246917267337 reletive error:  0.1969324681886716\n"
          ],
          "name": "stdout"
        },
        {
          "output_type": "stream",
          "text": [
            "\n",
            " 58%|█████▊    | 29/50 [00:25<00:18,  1.12it/s]\u001b[A"
          ],
          "name": "stderr"
        },
        {
          "output_type": "stream",
          "text": [
            "loss:  0.019447702998541976 reletive error:  0.19600294720973788\n"
          ],
          "name": "stdout"
        },
        {
          "output_type": "stream",
          "text": [
            "\n",
            " 60%|██████    | 30/50 [00:26<00:17,  1.13it/s]\u001b[A"
          ],
          "name": "stderr"
        },
        {
          "output_type": "stream",
          "text": [
            "loss:  0.019292923450636917 reletive error:  0.19490368415621842\n"
          ],
          "name": "stdout"
        },
        {
          "output_type": "stream",
          "text": [
            "\n",
            " 62%|██████▏   | 31/50 [00:27<00:16,  1.12it/s]\u001b[A"
          ],
          "name": "stderr"
        },
        {
          "output_type": "stream",
          "text": [
            "loss:  0.019118177607207916 reletive error:  0.1942776826587803\n"
          ],
          "name": "stdout"
        },
        {
          "output_type": "stream",
          "text": [
            "\n",
            " 64%|██████▍   | 32/50 [00:28<00:15,  1.13it/s]\u001b[A"
          ],
          "name": "stderr"
        },
        {
          "output_type": "stream",
          "text": [
            "loss:  0.018949781770081286 reletive error:  0.1935535540535117\n"
          ],
          "name": "stdout"
        },
        {
          "output_type": "stream",
          "text": [
            "\n",
            " 66%|██████▌   | 33/50 [00:29<00:15,  1.10it/s]\u001b[A"
          ],
          "name": "stderr"
        },
        {
          "output_type": "stream",
          "text": [
            "loss:  0.018780337392257637 reletive error:  0.19267685077639235\n"
          ],
          "name": "stdout"
        },
        {
          "output_type": "stream",
          "text": [
            "\n",
            " 68%|██████▊   | 34/50 [00:30<00:14,  1.12it/s]\u001b[A"
          ],
          "name": "stderr"
        },
        {
          "output_type": "stream",
          "text": [
            "loss:  0.018630457222166337 reletive error:  0.19202334075426114\n"
          ],
          "name": "stdout"
        },
        {
          "output_type": "stream",
          "text": [
            "\n",
            " 70%|███████   | 35/50 [00:31<00:13,  1.12it/s]\u001b[A"
          ],
          "name": "stderr"
        },
        {
          "output_type": "stream",
          "text": [
            "loss:  0.01846889737584764 reletive error:  0.1913967103448917\n"
          ],
          "name": "stdout"
        },
        {
          "output_type": "stream",
          "text": [
            "\n",
            " 72%|███████▏  | 36/50 [00:32<00:12,  1.12it/s]\u001b[A"
          ],
          "name": "stderr"
        },
        {
          "output_type": "stream",
          "text": [
            "loss:  0.01830813922295838 reletive error:  0.19090286965540823\n"
          ],
          "name": "stdout"
        },
        {
          "output_type": "stream",
          "text": [
            "\n",
            " 74%|███████▍  | 37/50 [00:32<00:11,  1.12it/s]\u001b[A"
          ],
          "name": "stderr"
        },
        {
          "output_type": "stream",
          "text": [
            "loss:  0.018152248830457556 reletive error:  0.18972092600100687\n"
          ],
          "name": "stdout"
        },
        {
          "output_type": "stream",
          "text": [
            "\n",
            " 76%|███████▌  | 38/50 [00:33<00:10,  1.12it/s]\u001b[A"
          ],
          "name": "stderr"
        },
        {
          "output_type": "stream",
          "text": [
            "loss:  0.018002282615382087 reletive error:  0.18908932255813446\n"
          ],
          "name": "stdout"
        },
        {
          "output_type": "stream",
          "text": [
            "\n",
            " 78%|███████▊  | 39/50 [00:34<00:09,  1.11it/s]\u001b[A"
          ],
          "name": "stderr"
        },
        {
          "output_type": "stream",
          "text": [
            "loss:  0.01784285837038965 reletive error:  0.18838265432535894\n"
          ],
          "name": "stdout"
        },
        {
          "output_type": "stream",
          "text": [
            "\n",
            " 80%|████████  | 40/50 [00:35<00:08,  1.12it/s]\u001b[A"
          ],
          "name": "stderr"
        },
        {
          "output_type": "stream",
          "text": [
            "loss:  0.01768711422363244 reletive error:  0.18757091324124994\n"
          ],
          "name": "stdout"
        },
        {
          "output_type": "stream",
          "text": [
            "\n",
            " 82%|████████▏ | 41/50 [00:36<00:07,  1.14it/s]\u001b[A"
          ],
          "name": "stderr"
        },
        {
          "output_type": "stream",
          "text": [
            "loss:  0.017539973446997578 reletive error:  0.18700202469322438\n"
          ],
          "name": "stdout"
        },
        {
          "output_type": "stream",
          "text": [
            "\n",
            " 84%|████████▍ | 42/50 [00:37<00:07,  1.14it/s]\u001b[A"
          ],
          "name": "stderr"
        },
        {
          "output_type": "stream",
          "text": [
            "loss:  0.017398121935736397 reletive error:  0.1863630843651707\n"
          ],
          "name": "stdout"
        },
        {
          "output_type": "stream",
          "text": [
            "\n",
            " 86%|████████▌ | 43/50 [00:38<00:06,  1.13it/s]\u001b[A"
          ],
          "name": "stderr"
        },
        {
          "output_type": "stream",
          "text": [
            "loss:  0.017241248809349994 reletive error:  0.18546792885591723\n"
          ],
          "name": "stdout"
        },
        {
          "output_type": "stream",
          "text": [
            "\n",
            " 88%|████████▊ | 44/50 [00:39<00:05,  1.14it/s]\u001b[A"
          ],
          "name": "stderr"
        },
        {
          "output_type": "stream",
          "text": [
            "loss:  0.01708135735128936 reletive error:  0.18459781904704392\n"
          ],
          "name": "stdout"
        },
        {
          "output_type": "stream",
          "text": [
            "\n",
            " 90%|█████████ | 45/50 [00:40<00:04,  1.14it/s]\u001b[A"
          ],
          "name": "stderr"
        },
        {
          "output_type": "stream",
          "text": [
            "loss:  0.016934073220889977 reletive error:  0.18387846441825514\n"
          ],
          "name": "stdout"
        },
        {
          "output_type": "stream",
          "text": [
            "\n",
            " 92%|█████████▏| 46/50 [00:40<00:03,  1.14it/s]\u001b[A"
          ],
          "name": "stderr"
        },
        {
          "output_type": "stream",
          "text": [
            "loss:  0.016790290673775018 reletive error:  0.18313081070513448\n"
          ],
          "name": "stdout"
        },
        {
          "output_type": "stream",
          "text": [
            "\n",
            " 94%|█████████▍| 47/50 [00:41<00:02,  1.13it/s]\u001b[A"
          ],
          "name": "stderr"
        },
        {
          "output_type": "stream",
          "text": [
            "loss:  0.016646335983287484 reletive error:  0.1824811550781878\n"
          ],
          "name": "stdout"
        },
        {
          "output_type": "stream",
          "text": [
            "\n",
            " 96%|█████████▌| 48/50 [00:42<00:01,  1.13it/s]\u001b[A"
          ],
          "name": "stderr"
        },
        {
          "output_type": "stream",
          "text": [
            "loss:  0.0165027270263633 reletive error:  0.18151489735434\n"
          ],
          "name": "stdout"
        },
        {
          "output_type": "stream",
          "text": [
            "\n",
            " 98%|█████████▊| 49/50 [00:43<00:00,  1.12it/s]\u001b[A"
          ],
          "name": "stderr"
        },
        {
          "output_type": "stream",
          "text": [
            "loss:  0.016356244685718044 reletive error:  0.1809730188352095\n"
          ],
          "name": "stdout"
        },
        {
          "output_type": "stream",
          "text": [
            "\n",
            "100%|██████████| 50/50 [00:44<00:00,  1.12it/s]\n",
            "\n",
            "  0%|          | 0/50 [00:00<?, ?it/s]\u001b[A"
          ],
          "name": "stderr"
        },
        {
          "output_type": "stream",
          "text": [
            "loss:  0.016205344154565027 reletive error:  0.1799238992195102\n"
          ],
          "name": "stdout"
        },
        {
          "output_type": "stream",
          "text": [
            "\n",
            "  2%|▏         | 1/50 [00:00<00:43,  1.13it/s]\u001b[A"
          ],
          "name": "stderr"
        },
        {
          "output_type": "stream",
          "text": [
            "loss:  30.956813398632512 reletive error:  0.9356652634930978\n"
          ],
          "name": "stdout"
        },
        {
          "output_type": "stream",
          "text": [
            "\n",
            "  4%|▍         | 2/50 [00:01<00:42,  1.14it/s]\u001b[A"
          ],
          "name": "stderr"
        },
        {
          "output_type": "stream",
          "text": [
            "loss:  0.03216098254197188 reletive error:  0.25028020400466994\n"
          ],
          "name": "stdout"
        },
        {
          "output_type": "stream",
          "text": [
            "\n",
            "  6%|▌         | 3/50 [00:02<00:41,  1.14it/s]\u001b[A"
          ],
          "name": "stderr"
        },
        {
          "output_type": "stream",
          "text": [
            "loss:  0.032166362328660374 reletive error:  0.24959574434056864\n"
          ],
          "name": "stdout"
        },
        {
          "output_type": "stream",
          "text": [
            "\n",
            "  8%|▊         | 4/50 [00:03<00:39,  1.15it/s]\u001b[A"
          ],
          "name": "stderr"
        },
        {
          "output_type": "stream",
          "text": [
            "loss:  0.03216490261869541 reletive error:  0.25015121995647815\n"
          ],
          "name": "stdout"
        },
        {
          "output_type": "stream",
          "text": [
            "\n",
            " 10%|█         | 5/50 [00:04<00:39,  1.15it/s]\u001b[A"
          ],
          "name": "stderr"
        },
        {
          "output_type": "stream",
          "text": [
            "loss:  0.032154499457976715 reletive error:  0.24981799429369986\n"
          ],
          "name": "stdout"
        },
        {
          "output_type": "stream",
          "text": [
            "\n",
            " 12%|█▏        | 6/50 [00:05<00:38,  1.15it/s]\u001b[A"
          ],
          "name": "stderr"
        },
        {
          "output_type": "stream",
          "text": [
            "loss:  0.03216910989839915 reletive error:  0.24993395473855953\n"
          ],
          "name": "stdout"
        },
        {
          "output_type": "stream",
          "text": [
            "\n",
            " 14%|█▍        | 7/50 [00:06<00:37,  1.13it/s]\u001b[A"
          ],
          "name": "stderr"
        },
        {
          "output_type": "stream",
          "text": [
            "loss:  0.03214220988879988 reletive error:  0.25012139944598083\n"
          ],
          "name": "stdout"
        },
        {
          "output_type": "stream",
          "text": [
            "\n",
            " 16%|█▌        | 8/50 [00:06<00:36,  1.14it/s]\u001b[A"
          ],
          "name": "stderr"
        },
        {
          "output_type": "stream",
          "text": [
            "loss:  0.03217005287946448 reletive error:  0.24948203767220875\n"
          ],
          "name": "stdout"
        },
        {
          "output_type": "stream",
          "text": [
            "\n",
            " 18%|█▊        | 9/50 [00:07<00:35,  1.14it/s]\u001b[A"
          ],
          "name": "stderr"
        },
        {
          "output_type": "stream",
          "text": [
            "loss:  0.03214528825405791 reletive error:  0.2500281996734112\n"
          ],
          "name": "stdout"
        },
        {
          "output_type": "stream",
          "text": [
            "\n",
            " 20%|██        | 10/50 [00:08<00:34,  1.14it/s]\u001b[A"
          ],
          "name": "stderr"
        },
        {
          "output_type": "stream",
          "text": [
            "loss:  0.032164878294147 reletive error:  0.2496388972388955\n"
          ],
          "name": "stdout"
        },
        {
          "output_type": "stream",
          "text": [
            "\n",
            " 22%|██▏       | 11/50 [00:09<00:33,  1.15it/s]\u001b[A"
          ],
          "name": "stderr"
        },
        {
          "output_type": "stream",
          "text": [
            "loss:  0.03216389327996338 reletive error:  0.24999564712552724\n"
          ],
          "name": "stdout"
        },
        {
          "output_type": "stream",
          "text": [
            "\n",
            " 24%|██▍       | 12/50 [00:10<00:33,  1.15it/s]\u001b[A"
          ],
          "name": "stderr"
        },
        {
          "output_type": "stream",
          "text": [
            "loss:  0.03216396056459849 reletive error:  0.24997404922570313\n"
          ],
          "name": "stdout"
        },
        {
          "output_type": "stream",
          "text": [
            "\n",
            " 26%|██▌       | 13/50 [00:11<00:32,  1.15it/s]\u001b[A"
          ],
          "name": "stderr"
        },
        {
          "output_type": "stream",
          "text": [
            "loss:  0.03216067716723241 reletive error:  0.24977848957574184\n"
          ],
          "name": "stdout"
        },
        {
          "output_type": "stream",
          "text": [
            "\n",
            " 28%|██▊       | 14/50 [00:12<00:31,  1.14it/s]\u001b[A"
          ],
          "name": "stderr"
        },
        {
          "output_type": "stream",
          "text": [
            "loss:  0.03216109907752601 reletive error:  0.24970082856977865\n"
          ],
          "name": "stdout"
        },
        {
          "output_type": "stream",
          "text": [
            "\n",
            " 30%|███       | 15/50 [00:13<00:30,  1.14it/s]\u001b[A"
          ],
          "name": "stderr"
        },
        {
          "output_type": "stream",
          "text": [
            "loss:  0.032162810616395206 reletive error:  0.250089415453484\n"
          ],
          "name": "stdout"
        },
        {
          "output_type": "stream",
          "text": [
            "\n",
            " 32%|███▏      | 16/50 [00:13<00:29,  1.15it/s]\u001b[A"
          ],
          "name": "stderr"
        },
        {
          "output_type": "stream",
          "text": [
            "loss:  0.03217102620000621 reletive error:  0.2501033630738793\n"
          ],
          "name": "stdout"
        },
        {
          "output_type": "stream",
          "text": [
            "\n",
            " 34%|███▍      | 17/50 [00:14<00:28,  1.16it/s]\u001b[A"
          ],
          "name": "stderr"
        },
        {
          "output_type": "stream",
          "text": [
            "loss:  0.032166469965530055 reletive error:  0.2496817385904215\n"
          ],
          "name": "stdout"
        },
        {
          "output_type": "stream",
          "text": [
            "\n",
            " 36%|███▌      | 18/50 [00:15<00:27,  1.16it/s]\u001b[A"
          ],
          "name": "stderr"
        },
        {
          "output_type": "stream",
          "text": [
            "loss:  0.03216607340221851 reletive error:  0.24997446389231565\n"
          ],
          "name": "stdout"
        },
        {
          "output_type": "stream",
          "text": [
            "\n",
            " 38%|███▊      | 19/50 [00:16<00:26,  1.16it/s]\u001b[A"
          ],
          "name": "stderr"
        },
        {
          "output_type": "stream",
          "text": [
            "loss:  0.03216072824606443 reletive error:  0.24991022233646276\n"
          ],
          "name": "stdout"
        },
        {
          "output_type": "stream",
          "text": [
            "\n",
            " 40%|████      | 20/50 [00:17<00:26,  1.15it/s]\u001b[A"
          ],
          "name": "stderr"
        },
        {
          "output_type": "stream",
          "text": [
            "loss:  0.03215941226463437 reletive error:  0.24983510291193806\n"
          ],
          "name": "stdout"
        },
        {
          "output_type": "stream",
          "text": [
            "\n",
            " 42%|████▏     | 21/50 [00:18<00:25,  1.15it/s]\u001b[A"
          ],
          "name": "stderr"
        },
        {
          "output_type": "stream",
          "text": [
            "loss:  0.0321667924576488 reletive error:  0.2499211240420596\n"
          ],
          "name": "stdout"
        },
        {
          "output_type": "stream",
          "text": [
            "\n",
            " 44%|████▍     | 22/50 [00:19<00:24,  1.15it/s]\u001b[A"
          ],
          "name": "stderr"
        },
        {
          "output_type": "stream",
          "text": [
            "loss:  0.03215762693338438 reletive error:  0.25018762693157376\n"
          ],
          "name": "stdout"
        },
        {
          "output_type": "stream",
          "text": [
            "\n",
            " 46%|████▌     | 23/50 [00:20<00:23,  1.15it/s]\u001b[A"
          ],
          "name": "stderr"
        },
        {
          "output_type": "stream",
          "text": [
            "loss:  0.03216186665504168 reletive error:  0.24985153722007827\n"
          ],
          "name": "stdout"
        },
        {
          "output_type": "stream",
          "text": [
            "\n",
            " 48%|████▊     | 24/50 [00:20<00:22,  1.14it/s]\u001b[A"
          ],
          "name": "stderr"
        },
        {
          "output_type": "stream",
          "text": [
            "loss:  0.032167019123384884 reletive error:  0.2500206283430214\n"
          ],
          "name": "stdout"
        },
        {
          "output_type": "stream",
          "text": [
            "\n",
            " 50%|█████     | 25/50 [00:21<00:21,  1.14it/s]\u001b[A"
          ],
          "name": "stderr"
        },
        {
          "output_type": "stream",
          "text": [
            "loss:  0.03215823383673691 reletive error:  0.24989059853497492\n"
          ],
          "name": "stdout"
        },
        {
          "output_type": "stream",
          "text": [
            "\n",
            " 52%|█████▏    | 26/50 [00:22<00:21,  1.13it/s]\u001b[A"
          ],
          "name": "stderr"
        },
        {
          "output_type": "stream",
          "text": [
            "loss:  0.03216318806583573 reletive error:  0.24995630063395283\n"
          ],
          "name": "stdout"
        },
        {
          "output_type": "stream",
          "text": [
            "\n",
            " 54%|█████▍    | 27/50 [00:23<00:20,  1.11it/s]\u001b[A"
          ],
          "name": "stderr"
        },
        {
          "output_type": "stream",
          "text": [
            "loss:  0.03216164772311303 reletive error:  0.24961112486105666\n"
          ],
          "name": "stdout"
        },
        {
          "output_type": "stream",
          "text": [
            "\n",
            " 56%|█████▌    | 28/50 [00:24<00:19,  1.11it/s]\u001b[A"
          ],
          "name": "stderr"
        },
        {
          "output_type": "stream",
          "text": [
            "loss:  0.03217064190783423 reletive error:  0.25012239371412387\n"
          ],
          "name": "stdout"
        },
        {
          "output_type": "stream",
          "text": [
            "\n",
            " 58%|█████▊    | 29/50 [00:25<00:18,  1.11it/s]\u001b[A"
          ],
          "name": "stderr"
        },
        {
          "output_type": "stream",
          "text": [
            "loss:  0.03217106304714101 reletive error:  0.2500159919269897\n"
          ],
          "name": "stdout"
        },
        {
          "output_type": "stream",
          "text": [
            "\n",
            " 60%|██████    | 30/50 [00:26<00:17,  1.12it/s]\u001b[A"
          ],
          "name": "stderr"
        },
        {
          "output_type": "stream",
          "text": [
            "loss:  0.03216734763854825 reletive error:  0.24991672484302\n"
          ],
          "name": "stdout"
        },
        {
          "output_type": "stream",
          "text": [
            "\n",
            " 62%|██████▏   | 31/50 [00:27<00:16,  1.12it/s]\u001b[A"
          ],
          "name": "stderr"
        },
        {
          "output_type": "stream",
          "text": [
            "loss:  0.032158119133278866 reletive error:  0.2500097502008022\n"
          ],
          "name": "stdout"
        },
        {
          "output_type": "stream",
          "text": [
            "\n",
            " 64%|██████▍   | 32/50 [00:28<00:16,  1.12it/s]\u001b[A"
          ],
          "name": "stderr"
        },
        {
          "output_type": "stream",
          "text": [
            "loss:  0.032157174134975604 reletive error:  0.24973702655760066\n"
          ],
          "name": "stdout"
        },
        {
          "output_type": "stream",
          "text": [
            "\n",
            " 66%|██████▌   | 33/50 [00:29<00:15,  1.11it/s]\u001b[A"
          ],
          "name": "stderr"
        },
        {
          "output_type": "stream",
          "text": [
            "loss:  0.03216269179928159 reletive error:  0.24979043526098918\n"
          ],
          "name": "stdout"
        },
        {
          "output_type": "stream",
          "text": [
            "\n",
            " 68%|██████▊   | 34/50 [00:29<00:14,  1.11it/s]\u001b[A"
          ],
          "name": "stderr"
        },
        {
          "output_type": "stream",
          "text": [
            "loss:  0.032162248065804894 reletive error:  0.25014559176177714\n"
          ],
          "name": "stdout"
        },
        {
          "output_type": "stream",
          "text": [
            "\n",
            " 70%|███████   | 35/50 [00:30<00:13,  1.11it/s]\u001b[A"
          ],
          "name": "stderr"
        },
        {
          "output_type": "stream",
          "text": [
            "loss:  0.03215636631841146 reletive error:  0.24980426263211106\n"
          ],
          "name": "stdout"
        },
        {
          "output_type": "stream",
          "text": [
            "\n",
            " 72%|███████▏  | 36/50 [00:31<00:12,  1.11it/s]\u001b[A"
          ],
          "name": "stderr"
        },
        {
          "output_type": "stream",
          "text": [
            "loss:  0.032158159968312255 reletive error:  0.2496726833799512\n"
          ],
          "name": "stdout"
        },
        {
          "output_type": "stream",
          "text": [
            "\n",
            " 74%|███████▍  | 37/50 [00:32<00:11,  1.12it/s]\u001b[A"
          ],
          "name": "stderr"
        },
        {
          "output_type": "stream",
          "text": [
            "loss:  0.0321702995720812 reletive error:  0.25025607206800143\n"
          ],
          "name": "stdout"
        },
        {
          "output_type": "stream",
          "text": [
            "\n",
            " 76%|███████▌  | 38/50 [00:33<00:10,  1.13it/s]\u001b[A"
          ],
          "name": "stderr"
        },
        {
          "output_type": "stream",
          "text": [
            "loss:  0.03216054651851839 reletive error:  0.24987749097703846\n"
          ],
          "name": "stdout"
        },
        {
          "output_type": "stream",
          "text": [
            "\n",
            " 78%|███████▊  | 39/50 [00:34<00:09,  1.13it/s]\u001b[A"
          ],
          "name": "stderr"
        },
        {
          "output_type": "stream",
          "text": [
            "loss:  0.032170306275551064 reletive error:  0.2500384762912734\n"
          ],
          "name": "stdout"
        },
        {
          "output_type": "stream",
          "text": [
            "\n",
            " 80%|████████  | 40/50 [00:35<00:08,  1.14it/s]\u001b[A"
          ],
          "name": "stderr"
        },
        {
          "output_type": "stream",
          "text": [
            "loss:  0.03216403295730008 reletive error:  0.24993807016520253\n"
          ],
          "name": "stdout"
        },
        {
          "output_type": "stream",
          "text": [
            "\n",
            " 82%|████████▏ | 41/50 [00:36<00:07,  1.15it/s]\u001b[A"
          ],
          "name": "stderr"
        },
        {
          "output_type": "stream",
          "text": [
            "loss:  0.032162412151575996 reletive error:  0.2499312540606326\n"
          ],
          "name": "stdout"
        },
        {
          "output_type": "stream",
          "text": [
            "\n",
            " 84%|████████▍ | 42/50 [00:36<00:06,  1.15it/s]\u001b[A"
          ],
          "name": "stderr"
        },
        {
          "output_type": "stream",
          "text": [
            "loss:  0.03216306639319195 reletive error:  0.2498719595557866\n"
          ],
          "name": "stdout"
        },
        {
          "output_type": "stream",
          "text": [
            "\n",
            " 86%|████████▌ | 43/50 [00:37<00:06,  1.15it/s]\u001b[A"
          ],
          "name": "stderr"
        },
        {
          "output_type": "stream",
          "text": [
            "loss:  0.032164184368143715 reletive error:  0.2500608969868236\n"
          ],
          "name": "stdout"
        },
        {
          "output_type": "stream",
          "text": [
            "\n",
            " 88%|████████▊ | 44/50 [00:38<00:05,  1.15it/s]\u001b[A"
          ],
          "name": "stderr"
        },
        {
          "output_type": "stream",
          "text": [
            "loss:  0.0321603798137627 reletive error:  0.24970005883394641\n"
          ],
          "name": "stdout"
        },
        {
          "output_type": "stream",
          "text": [
            "\n",
            " 90%|█████████ | 45/50 [00:39<00:04,  1.14it/s]\u001b[A"
          ],
          "name": "stderr"
        },
        {
          "output_type": "stream",
          "text": [
            "loss:  0.03216358674411989 reletive error:  0.24995774689146466\n"
          ],
          "name": "stdout"
        },
        {
          "output_type": "stream",
          "text": [
            "\n",
            " 92%|█████████▏| 46/50 [00:40<00:03,  1.14it/s]\u001b[A"
          ],
          "name": "stderr"
        },
        {
          "output_type": "stream",
          "text": [
            "loss:  0.032161711972430264 reletive error:  0.24988573715897247\n"
          ],
          "name": "stdout"
        },
        {
          "output_type": "stream",
          "text": [
            "\n",
            " 94%|█████████▍| 47/50 [00:41<00:02,  1.13it/s]\u001b[A"
          ],
          "name": "stderr"
        },
        {
          "output_type": "stream",
          "text": [
            "loss:  0.03216945083143276 reletive error:  0.2504799739157529\n"
          ],
          "name": "stdout"
        },
        {
          "output_type": "stream",
          "text": [
            "\n",
            " 96%|█████████▌| 48/50 [00:42<00:01,  1.13it/s]\u001b[A"
          ],
          "name": "stderr"
        },
        {
          "output_type": "stream",
          "text": [
            "loss:  0.032159981539133034 reletive error:  0.24977134386317768\n"
          ],
          "name": "stdout"
        },
        {
          "output_type": "stream",
          "text": [
            "\n",
            " 98%|█████████▊| 49/50 [00:43<00:00,  1.14it/s]\u001b[A"
          ],
          "name": "stderr"
        },
        {
          "output_type": "stream",
          "text": [
            "loss:  0.03215815713095284 reletive error:  0.24991591939436886\n"
          ],
          "name": "stdout"
        },
        {
          "output_type": "stream",
          "text": [
            "\n",
            "100%|██████████| 50/50 [00:43<00:00,  1.14it/s]"
          ],
          "name": "stderr"
        },
        {
          "output_type": "stream",
          "text": [
            "loss:  0.03215891394436434 reletive error:  0.2498266911108667\n"
          ],
          "name": "stdout"
        },
        {
          "output_type": "stream",
          "text": [
            "\n"
          ],
          "name": "stderr"
        },
        {
          "output_type": "display_data",
          "data": {
            "image/png": "[encoded data removed]",
            "text/plain": [
              "<Figure size 1440x720 with 1 Axes>"
            ]
          },
          "metadata": {
            "tags": [],
            "needs_background": "light"
          }
        }
      ]
    }
  ]
} 
